{
 "cells": [
  {
   "cell_type": "code",
   "execution_count": 1,
   "metadata": {},
   "outputs": [],
   "source": [
    "import numpy as np\n",
    "import scipy.optimize as opt\n",
    "from typing import List, Dict, Union\n",
    "\n",
    "from functools import partial"
   ]
  },
  {
   "cell_type": "code",
   "execution_count": 10,
   "metadata": {},
   "outputs": [
    {
     "data": {
      "text/plain": [
       "({'senior_account': 1440, 'junior_account': 3440, 'creative': 6880},\n",
       " {'senior_account': 20, 'junior_account': 7, 'creative': 12})"
      ]
     },
     "execution_count": 10,
     "metadata": {},
     "output_type": "execute_result"
    }
   ],
   "source": [
    "senior_account_people = 2\n",
    "senior_account_hour_per_year = 720\n",
    "senior_cost_per_hour = 20\n",
    "\n",
    "junior_account_people = 2\n",
    "junior_account_hour_per_year = 1720\n",
    "junior_cost_per_hour = 7\n",
    "\n",
    "creative_people = 4\n",
    "creative_hour_per_year = 1720\n",
    "creative_cost_per_hour = 12\n",
    "\n",
    "\n",
    "total_hour_disposal = {\"senior_account\": senior_account_people * senior_account_hour_per_year,\n",
    "                \"junior_account\": junior_account_people * junior_account_hour_per_year,\n",
    "                \"creative\": creative_people * creative_hour_per_year}\n",
    "\n",
    "costs = {\"senior_account\": senior_cost_per_hour,\n",
    "        \"junior_account\": junior_cost_per_hour,\n",
    "        \"creative\": creative_cost_per_hour}\n",
    "\n",
    "\n",
    "total_hour_disposal, costs"
   ]
  },
  {
   "cell_type": "code",
   "execution_count": 17,
   "metadata": {},
   "outputs": [
    {
     "data": {
      "text/plain": [
       "[{'return': 10000.0, 'creative_hour': 10, 'senior_hour': 20, 'cost': 520},\n",
       " {'return': 9000.0, 'creative_hour': 20, 'junior_hour': 10, 'cost': 310}]"
      ]
     },
     "execution_count": 17,
     "metadata": {},
     "output_type": "execute_result"
    }
   ],
   "source": [
    "project_a_type = {\"return\": 1*1e4,\n",
    "                 \"creative_hour\": 10,\n",
    "                 \"senior_hour\": 20}\n",
    "\n",
    "project_a_type[\"cost\"] = project_a_type[\"creative_hour\"] * creative_cost_per_hour + project_a_type[\"senior_hour\"] * senior_cost_per_hour\n",
    "\n",
    "project_b_type = {\"return\": 9*1e3,\n",
    "                 \"creative_hour\": 20,\n",
    "                 \"junior_hour\": 10}\n",
    "project_b_type[\"cost\"] = project_b_type[\"creative_hour\"] * creative_cost_per_hour + project_b_type[\"junior_hour\"] * junior_cost_per_hour\n",
    "\n",
    "project_list = [project_a_type, project_b_type]\n",
    "project_list"
   ]
  },
  {
   "cell_type": "code",
   "execution_count": 18,
   "metadata": {},
   "outputs": [],
   "source": [
    "def loss_function(t: np.ndarray,\n",
    "                  projects: List[Dict[str, Union[float, int]]]):\n",
    "    costs = 0.0\n",
    "    returns = 0.0\n",
    "    costs += t[0] * (projects[0][\"cost\"])\n",
    "    returns += t[0] * projects[0][\"return\"]\n",
    "    #project_B\n",
    "    costs += t[1] * (projects[1][\"cost\"])\n",
    "    returns += t[1] * projects[1][\"return\"]\n",
    "    \n",
    "    return returns - costs\n",
    "    \n",
    "    \n",
    "def creative(t):\n",
    "    return -(t[0] * project_a_type[\"creative_hour\"] + t[1] * project_b_type[\"creative_hour\"]) + total_hour_disposal[\"creative\"]\n",
    "\n",
    "def senior(t):\n",
    "    return -t[0] * project_a_type[\"senior_hour\"] + total_hour_disposal[\"senior_account\"]\n",
    "\n",
    "def junior(t):\n",
    "    return -t[1] * project_b_type[\"junior_hour\"] + total_hour_disposal[\"junior_account\"]\n",
    "\n",
    "\n",
    "def verify_hour(t):\n",
    "    return (t[1] * project_b_type[\"junior_hour\"] <= total_hour_disposal[\"junior_account\"]) & (t[0] * project_a_type[\"senior_hour\"] <=  total_hour_disposal[\"senior_account\"]) & (t[0] * project_a_type[\"creative_hour\"] + t[1] * project_b_type[\"creative_hour\"] <= total_hour_disposal[\"creative\"])"
   ]
  },
  {
   "cell_type": "code",
   "execution_count": 19,
   "metadata": {},
   "outputs": [
    {
     "name": "stdout",
     "output_type": "stream",
     "text": [
      "           con: array([], dtype=float64)\n",
      " crossover_nit: 0\n",
      "         eqlin:  marginals: array([], dtype=float64)\n",
      "  residual: array([], dtype=float64)\n",
      "           fun: -3359080.0\n",
      "       ineqlin:  marginals: array([-434.5 , -256.75,   -0.  ])\n",
      "  residual: array([  0.,   0., 360.])\n",
      "         lower:  marginals: array([0., 0.])\n",
      "  residual: array([ 72., 308.])\n",
      "       message: 'Optimization terminated successfully. (HiGHS Status 7: Optimal)'\n",
      "           nit: 0\n",
      "         slack: array([  0.,   0., 360.])\n",
      "        status: 0\n",
      "       success: True\n",
      "         upper:  marginals: array([0., 0.])\n",
      "  residual: array([inf, inf])\n",
      "             x: array([ 72., 308.])\n"
     ]
    }
   ],
   "source": [
    "matrix = [-project_a_type[\"return\"] + project_a_type[\"creative_hour\"]*costs[\"creative\"] + project_a_type[\"senior_hour\"]*costs[\"senior_account\"],\n",
    "     -project_b_type[\"return\"] + project_b_type[\"creative_hour\"]*costs[\"creative\"] + project_b_type[\"junior_hour\"]*costs[\"junior_account\"],\n",
    "    ]\n",
    "A = [[project_a_type[\"creative_hour\"], project_b_type[\"creative_hour\"]],\n",
    "     [project_a_type[\"senior_hour\"], 0],\n",
    "     [0,project_b_type[\"junior_hour\"]]]\n",
    "b = [total_hour_disposal[\"creative\"], total_hour_disposal[\"senior_account\"], total_hour_disposal[\"junior_account\"]]\n",
    "\n",
    "\n",
    "# define the upper bound and the lower bound\n",
    "R = (0, None)\n",
    "T = (0, None)\n",
    "# Implementing the Simplex Algorithm\n",
    "# Solve the problem by Simplex method in Optimization\n",
    "res = opt.linprog(matrix, A_ub=A, b_ub=b,  bounds=(R, T), method='highs', options={\"disp\": True})  # linear programming p[roblem\n",
    "print(res) # print results"
   ]
  },
  {
   "cell_type": "code",
   "execution_count": 29,
   "metadata": {},
   "outputs": [
    {
     "name": "stdout",
     "output_type": "stream",
     "text": [
      "Allocation [70. 81.]\n",
      "P&L 155.7413 k\n",
      "Hour constraint verified True\n"
     ]
    }
   ],
   "source": [
    "result = res.x\n",
    "for i in range(len(result)):\n",
    "    result[i] = int(result[i])\n",
    "result[0] = 70\n",
    "result[1] = 81\n",
    "#result[1] = 68\n",
    "print(\"Allocation\", result)\n",
    "print(\"P&L\", loss_function(result, project_list)/1e5,\"k\")\n",
    "print(\"Hour constraint verified\", verify_hour(result))"
   ]
  },
  {
   "cell_type": "code",
   "execution_count": 22,
   "metadata": {},
   "outputs": [
    {
     "data": {
      "text/plain": [
       "8634240.0"
      ]
     },
     "execution_count": 22,
     "metadata": {},
     "output_type": "execute_result"
    }
   ],
   "source": [
    "result[0]*(project_a_type[\"return\"] - project_a_type[\"creative_hour\"]*costs[\"creative\"] + project_a_type[\"senior_hour\"]*costs[\"senior_account\"])"
   ]
  },
  {
   "cell_type": "code",
   "execution_count": 23,
   "metadata": {},
   "outputs": [
    {
     "data": {
      "text/plain": [
       "True"
      ]
     },
     "execution_count": 23,
     "metadata": {},
     "output_type": "execute_result"
    }
   ],
   "source": [
    "(result[1] * project_b_type[\"junior_hour\"] <= total_hour_disposal[\"junior_account\"]) "
   ]
  },
  {
   "cell_type": "code",
   "execution_count": 24,
   "metadata": {},
   "outputs": [
    {
     "data": {
      "text/plain": [
       "True"
      ]
     },
     "execution_count": 24,
     "metadata": {},
     "output_type": "execute_result"
    }
   ],
   "source": [
    "(result[0] * project_a_type[\"senior_hour\"] <=  total_hour_disposal[\"senior_account\"]) "
   ]
  },
  {
   "cell_type": "code",
   "execution_count": 25,
   "metadata": {},
   "outputs": [
    {
     "data": {
      "text/plain": [
       "6880.0"
      ]
     },
     "execution_count": 25,
     "metadata": {},
     "output_type": "execute_result"
    }
   ],
   "source": [
    "result[0] * project_a_type[\"creative_hour\"] + result[1] * project_b_type[\"creative_hour\"]  "
   ]
  },
  {
   "cell_type": "code",
   "execution_count": 26,
   "metadata": {},
   "outputs": [
    {
     "data": {
      "text/plain": [
       "6880"
      ]
     },
     "execution_count": 26,
     "metadata": {},
     "output_type": "execute_result"
    }
   ],
   "source": [
    "total_hour_disposal[\"creative\"]"
   ]
  },
  {
   "cell_type": "code",
   "execution_count": 20,
   "metadata": {},
   "outputs": [
    {
     "data": {
      "text/plain": [
       "3440"
      ]
     },
     "execution_count": 20,
     "metadata": {},
     "output_type": "execute_result"
    }
   ],
   "source": [
    "senior = 1720*2\n",
    "senior\n"
   ]
  },
  {
   "cell_type": "code",
   "execution_count": null,
   "metadata": {},
   "outputs": [],
   "source": []
  }
 ],
 "metadata": {
  "kernelspec": {
   "display_name": "Python 3 (ipykernel)",
   "language": "python",
   "name": "python3"
  },
  "language_info": {
   "codemirror_mode": {
    "name": "ipython",
    "version": 3
   },
   "file_extension": ".py",
   "mimetype": "text/x-python",
   "name": "python",
   "nbconvert_exporter": "python",
   "pygments_lexer": "ipython3",
   "version": "3.9.10"
  },
  "vscode": {
   "interpreter": {
    "hash": "5ddc0c075306ea9fd79d964b71c678d34095d53ef2b0246242f4a859c6c04635"
   }
  }
 },
 "nbformat": 4,
 "nbformat_minor": 2
}
